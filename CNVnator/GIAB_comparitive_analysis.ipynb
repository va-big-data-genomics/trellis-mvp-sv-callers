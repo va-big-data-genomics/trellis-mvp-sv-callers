{
 "cells": [
  {
   "cell_type": "markdown",
   "metadata": {},
   "source": [
    "# Comparing the Genome in a Bottle CNVnator calls to Truthset variant calls \n",
    "- Author : Prathima Vembu \n",
    "- GIAB calls : CNVnator0.3.3\n",
    "- Languages : Linux/UNIX commands  "
   ]
  },
  {
   "cell_type": "markdown",
   "metadata": {},
   "source": [
    "### 1. Input files:\n",
    "- [Tuthset for SV calls from GIAB FTP site](https://ftp-trace.ncbi.nlm.nih.gov/ReferenceSamples/giab/release/AshkenazimTrio/HG002_NA24385_son/NIST_SV_v0.6/)\n",
    "- CNVnator VCF file \n",
    "- Reference dataset: GRCh37 \n",
    "    "
   ]
  },
  {
   "cell_type": "markdown",
   "metadata": {},
   "source": [
    "### 2. Comparison tool\n",
    "- The comparison tools that is used is Truvari \n",
    "    - [Reference](https://www.biorxiv.org/content/10.1101/2022.02.21.481353v1.full.pdf) \n",
    "    - [User manual](https://github.com/ACEnglish/truvari)\n",
    "- Truvari is a tool that is being used for benchmarking structural variants "
   ]
  },
  {
   "cell_type": "markdown",
   "metadata": {},
   "source": [
    "### 3. Truvari installation \n",
    "- Ensure ```pip``` is installed \n",
    "- Run ```python3 -m pip install Truvari```"
   ]
  },
  {
   "cell_type": "markdown",
   "metadata": {},
   "source": [
    "### 4. Running Truvari \n",
    "- General command : ```truvari bench -b base.vcf.gz -c comp.vcf.gz -o output_dir```\n",
    "\n",
    "- Command used by GIAB consortium: ```truvari.py -b HG002_SVs_Tier1_v0.6.vcf.gz -c your.vcf.gz -o yourvcfvsGIABv0.6 --passonly --includebed HG002_SVs_Tier1_v0.6.bed -r 2000 --giabreport```"
   ]
  }
 ],
 "metadata": {
  "kernelspec": {
   "display_name": "R",
   "language": "R",
   "name": "ir"
  },
  "language_info": {
   "name": "R"
  },
  "orig_nbformat": 4
 },
 "nbformat": 4,
 "nbformat_minor": 2
}
